{
  "cells": [
    {
      "cell_type": "markdown",
      "metadata": {
        "id": "view-in-github",
        "colab_type": "text"
      },
      "source": [
        "<a href=\"https://colab.research.google.com/github/2020KUCP1104/Abhi1104/blob/main/Movie_Rating.ipynb\" target=\"_parent\"><img src=\"https://colab.research.google.com/assets/colab-badge.svg\" alt=\"Open In Colab\"/></a>"
      ]
    },
    {
      "cell_type": "markdown",
      "source": [
        "#Importing Libraries:"
      ],
      "metadata": {
        "id": "vb1udQPmhV0u"
      }
    },
    {
      "cell_type": "code",
      "execution_count": 7,
      "metadata": {
        "id": "nEwX2kfKBvUt"
      },
      "outputs": [],
      "source": [
        "import os"
      ]
    },
    {
      "cell_type": "code",
      "execution_count": 8,
      "metadata": {
        "id": "EcMwLd6mCCaL"
      },
      "outputs": [],
      "source": [
        "import pandas as pd\n",
        "import numpy as np\n",
        "import seaborn as sns\n",
        "import matplotlib.pyplot as plt\n",
        "from sklearn.model_selection import train_test_split, GridSearchCV, cross_val_score\n",
        "from sklearn.pipeline import Pipeline\n",
        "from sklearn.compose import ColumnTransformer\n",
        "from sklearn.impute import SimpleImputer\n",
        "from sklearn.preprocessing import StandardScaler, OneHotEncoder, FunctionTransformer\n",
        "from sklearn.ensemble import RandomForestRegressor\n",
        "from sklearn.metrics import mean_squared_error\n",
        "from sklearn.model_selection import GridSearchCV\n",
        "import joblib\n",
        "from sklearn.impute import SimpleImputer\n",
        "from sklearn.pipeline import Pipeline"
      ]
    },
    {
      "cell_type": "markdown",
      "metadata": {
        "id": "SNMEsh6bdnZW"
      },
      "source": [
        "# Loading Data and Data Cleaning:"
      ]
    },
    {
      "cell_type": "code",
      "execution_count": 9,
      "metadata": {
        "id": "OxKCGahNCNqr"
      },
      "outputs": [],
      "source": [
        "Movie_rating = pd.read_csv(\"Movie.csv\", encoding=\"latin1\")"
      ]
    },
    {
      "cell_type": "code",
      "execution_count": 10,
      "metadata": {
        "id": "daFQDxP6DeNj"
      },
      "outputs": [],
      "source": [
        "#Drop unnecessary columns\n",
        "Movie_rating.drop(['Name', 'Director', 'Actor 1', 'Actor 2', 'Actor 3'], axis=1, inplace=True)\n"
      ]
    },
    {
      "cell_type": "code",
      "execution_count": 11,
      "metadata": {
        "id": "9e6q6e1IDi6q"
      },
      "outputs": [],
      "source": [
        "# Fill missing values in 'Rating' column with mean rating\n",
        "Movie_rating['Rating'].fillna(Movie_rating['Rating'].mean(), inplace=True)"
      ]
    },
    {
      "cell_type": "code",
      "execution_count": 12,
      "metadata": {
        "id": "gL_dERZPDznp"
      },
      "outputs": [],
      "source": [
        "# Convert 'Votes' column to numeric and fill missing values with mean\n",
        "Movie_rating['Votes'] = pd.to_numeric(Movie_rating['Votes'], errors='coerce')\n",
        "Movie_rating['Votes'].fillna(Movie_rating['Votes'].mean(), inplace=True)"
      ]
    },
    {
      "cell_type": "code",
      "execution_count": 13,
      "metadata": {
        "id": "kK-Ori_UD33Z"
      },
      "outputs": [],
      "source": [
        "# Convert 'Year' column to numeric, fill missing values with 0, and make all values positive\n",
        "Movie_rating['Year'] = pd.to_numeric(Movie_rating['Year'], errors='coerce')\n",
        "Movie_rating['Year'].fillna(0, inplace=True)\n",
        "Movie_rating['Year'] = Movie_rating['Year'].abs()"
      ]
    },
    {
      "cell_type": "markdown",
      "source": [
        "#Data Transformation:"
      ],
      "metadata": {
        "id": "7jDK6mxnh4dQ"
      }
    },
    {
      "cell_type": "code",
      "execution_count": 14,
      "metadata": {
        "id": "z3Yvl30SJIiN"
      },
      "outputs": [],
      "source": [
        "# Function to extract numeric part from 'Duration' column\n",
        "def extract_numeric_duration(data):\n",
        "    return data.str.extract(r'(\\d+)').astype(float)"
      ]
    },
    {
      "cell_type": "code",
      "execution_count": 15,
      "metadata": {
        "id": "yE0NkP0NEEsz"
      },
      "outputs": [],
      "source": [
        "# Create dummy variables for genres and concatenate them with the main DataFrame\n",
        "genres = Movie_rating['Genre'].str.get_dummies(', ')\n",
        "Movie_rating = pd.concat([Movie_rating, genres], axis=1)\n",
        "Movie_rating.drop('Genre', axis=1, inplace=True)"
      ]
    },
    {
      "cell_type": "markdown",
      "source": [
        "#Feature Engineering and Preprocessing:"
      ],
      "metadata": {
        "id": "0T7r_KlKiAOT"
      }
    },
    {
      "cell_type": "code",
      "execution_count": 16,
      "metadata": {
        "id": "bGcc9vIVEG2l"
      },
      "outputs": [],
      "source": [
        "# Separate features and target variable\n",
        "X = Movie_rating.drop('Rating', axis=1)\n",
        "y = Movie_rating['Rating']"
      ]
    },
    {
      "cell_type": "code",
      "execution_count": 17,
      "metadata": {
        "id": "s2xUyLJeq0cS"
      },
      "outputs": [],
      "source": [
        "# Extract numeric part from 'Duration' column and fill missing values with 0\n",
        "X['Duration'] = X['Duration'].apply(lambda row: 0 if str(row) == 'nan' else float(row.split(\" min\")[0]))\n",
        "X.fillna(0, inplace=True)"
      ]
    },
    {
      "cell_type": "code",
      "execution_count": 18,
      "metadata": {
        "colab": {
          "base_uri": "https://localhost:8080/",
          "height": 273
        },
        "id": "X50vaN40v4hJ",
        "outputId": "af0e0b7a-f032-45d5-d0de-350be704ab2b"
      },
      "outputs": [
        {
          "output_type": "execute_result",
          "data": {
            "text/plain": [
              "   Year  Duration       Votes  Action  Adventure  Animation  Biography  \\\n",
              "0   0.0       0.0  120.839493       0          0          0          0   \n",
              "1   0.0     109.0    8.000000       0          0          0          0   \n",
              "2   0.0      90.0  120.839493       0          0          0          0   \n",
              "3   0.0     110.0   35.000000       0          0          0          0   \n",
              "4   0.0     105.0  120.839493       0          0          0          0   \n",
              "\n",
              "   Comedy  Crime  Documentary  ...  Mystery  News  Reality-TV  Romance  \\\n",
              "0       0      0            0  ...        0     0           0        0   \n",
              "1       0      0            0  ...        0     0           0        0   \n",
              "2       0      0            0  ...        0     0           0        0   \n",
              "3       1      0            0  ...        0     0           0        1   \n",
              "4       0      0            0  ...        0     0           0        0   \n",
              "\n",
              "   Sci-Fi  Short  Sport  Thriller  War  Western  \n",
              "0       0      0      0         0    0        0  \n",
              "1       0      0      0         0    0        0  \n",
              "2       0      0      0         0    0        0  \n",
              "3       0      0      0         0    0        0  \n",
              "4       0      0      0         0    0        0  \n",
              "\n",
              "[5 rows x 27 columns]"
            ],
            "text/html": [
              "\n",
              "  <div id=\"df-6ec06f4b-6659-4dad-b314-c919de671a66\" class=\"colab-df-container\">\n",
              "    <div>\n",
              "<style scoped>\n",
              "    .dataframe tbody tr th:only-of-type {\n",
              "        vertical-align: middle;\n",
              "    }\n",
              "\n",
              "    .dataframe tbody tr th {\n",
              "        vertical-align: top;\n",
              "    }\n",
              "\n",
              "    .dataframe thead th {\n",
              "        text-align: right;\n",
              "    }\n",
              "</style>\n",
              "<table border=\"1\" class=\"dataframe\">\n",
              "  <thead>\n",
              "    <tr style=\"text-align: right;\">\n",
              "      <th></th>\n",
              "      <th>Year</th>\n",
              "      <th>Duration</th>\n",
              "      <th>Votes</th>\n",
              "      <th>Action</th>\n",
              "      <th>Adventure</th>\n",
              "      <th>Animation</th>\n",
              "      <th>Biography</th>\n",
              "      <th>Comedy</th>\n",
              "      <th>Crime</th>\n",
              "      <th>Documentary</th>\n",
              "      <th>...</th>\n",
              "      <th>Mystery</th>\n",
              "      <th>News</th>\n",
              "      <th>Reality-TV</th>\n",
              "      <th>Romance</th>\n",
              "      <th>Sci-Fi</th>\n",
              "      <th>Short</th>\n",
              "      <th>Sport</th>\n",
              "      <th>Thriller</th>\n",
              "      <th>War</th>\n",
              "      <th>Western</th>\n",
              "    </tr>\n",
              "  </thead>\n",
              "  <tbody>\n",
              "    <tr>\n",
              "      <th>0</th>\n",
              "      <td>0.0</td>\n",
              "      <td>0.0</td>\n",
              "      <td>120.839493</td>\n",
              "      <td>0</td>\n",
              "      <td>0</td>\n",
              "      <td>0</td>\n",
              "      <td>0</td>\n",
              "      <td>0</td>\n",
              "      <td>0</td>\n",
              "      <td>0</td>\n",
              "      <td>...</td>\n",
              "      <td>0</td>\n",
              "      <td>0</td>\n",
              "      <td>0</td>\n",
              "      <td>0</td>\n",
              "      <td>0</td>\n",
              "      <td>0</td>\n",
              "      <td>0</td>\n",
              "      <td>0</td>\n",
              "      <td>0</td>\n",
              "      <td>0</td>\n",
              "    </tr>\n",
              "    <tr>\n",
              "      <th>1</th>\n",
              "      <td>0.0</td>\n",
              "      <td>109.0</td>\n",
              "      <td>8.000000</td>\n",
              "      <td>0</td>\n",
              "      <td>0</td>\n",
              "      <td>0</td>\n",
              "      <td>0</td>\n",
              "      <td>0</td>\n",
              "      <td>0</td>\n",
              "      <td>0</td>\n",
              "      <td>...</td>\n",
              "      <td>0</td>\n",
              "      <td>0</td>\n",
              "      <td>0</td>\n",
              "      <td>0</td>\n",
              "      <td>0</td>\n",
              "      <td>0</td>\n",
              "      <td>0</td>\n",
              "      <td>0</td>\n",
              "      <td>0</td>\n",
              "      <td>0</td>\n",
              "    </tr>\n",
              "    <tr>\n",
              "      <th>2</th>\n",
              "      <td>0.0</td>\n",
              "      <td>90.0</td>\n",
              "      <td>120.839493</td>\n",
              "      <td>0</td>\n",
              "      <td>0</td>\n",
              "      <td>0</td>\n",
              "      <td>0</td>\n",
              "      <td>0</td>\n",
              "      <td>0</td>\n",
              "      <td>0</td>\n",
              "      <td>...</td>\n",
              "      <td>0</td>\n",
              "      <td>0</td>\n",
              "      <td>0</td>\n",
              "      <td>0</td>\n",
              "      <td>0</td>\n",
              "      <td>0</td>\n",
              "      <td>0</td>\n",
              "      <td>0</td>\n",
              "      <td>0</td>\n",
              "      <td>0</td>\n",
              "    </tr>\n",
              "    <tr>\n",
              "      <th>3</th>\n",
              "      <td>0.0</td>\n",
              "      <td>110.0</td>\n",
              "      <td>35.000000</td>\n",
              "      <td>0</td>\n",
              "      <td>0</td>\n",
              "      <td>0</td>\n",
              "      <td>0</td>\n",
              "      <td>1</td>\n",
              "      <td>0</td>\n",
              "      <td>0</td>\n",
              "      <td>...</td>\n",
              "      <td>0</td>\n",
              "      <td>0</td>\n",
              "      <td>0</td>\n",
              "      <td>1</td>\n",
              "      <td>0</td>\n",
              "      <td>0</td>\n",
              "      <td>0</td>\n",
              "      <td>0</td>\n",
              "      <td>0</td>\n",
              "      <td>0</td>\n",
              "    </tr>\n",
              "    <tr>\n",
              "      <th>4</th>\n",
              "      <td>0.0</td>\n",
              "      <td>105.0</td>\n",
              "      <td>120.839493</td>\n",
              "      <td>0</td>\n",
              "      <td>0</td>\n",
              "      <td>0</td>\n",
              "      <td>0</td>\n",
              "      <td>0</td>\n",
              "      <td>0</td>\n",
              "      <td>0</td>\n",
              "      <td>...</td>\n",
              "      <td>0</td>\n",
              "      <td>0</td>\n",
              "      <td>0</td>\n",
              "      <td>0</td>\n",
              "      <td>0</td>\n",
              "      <td>0</td>\n",
              "      <td>0</td>\n",
              "      <td>0</td>\n",
              "      <td>0</td>\n",
              "      <td>0</td>\n",
              "    </tr>\n",
              "  </tbody>\n",
              "</table>\n",
              "<p>5 rows × 27 columns</p>\n",
              "</div>\n",
              "    <div class=\"colab-df-buttons\">\n",
              "\n",
              "  <div class=\"colab-df-container\">\n",
              "    <button class=\"colab-df-convert\" onclick=\"convertToInteractive('df-6ec06f4b-6659-4dad-b314-c919de671a66')\"\n",
              "            title=\"Convert this dataframe to an interactive table.\"\n",
              "            style=\"display:none;\">\n",
              "\n",
              "  <svg xmlns=\"http://www.w3.org/2000/svg\" height=\"24px\" viewBox=\"0 -960 960 960\">\n",
              "    <path d=\"M120-120v-720h720v720H120Zm60-500h600v-160H180v160Zm220 220h160v-160H400v160Zm0 220h160v-160H400v160ZM180-400h160v-160H180v160Zm440 0h160v-160H620v160ZM180-180h160v-160H180v160Zm440 0h160v-160H620v160Z\"/>\n",
              "  </svg>\n",
              "    </button>\n",
              "\n",
              "  <style>\n",
              "    .colab-df-container {\n",
              "      display:flex;\n",
              "      gap: 12px;\n",
              "    }\n",
              "\n",
              "    .colab-df-convert {\n",
              "      background-color: #E8F0FE;\n",
              "      border: none;\n",
              "      border-radius: 50%;\n",
              "      cursor: pointer;\n",
              "      display: none;\n",
              "      fill: #1967D2;\n",
              "      height: 32px;\n",
              "      padding: 0 0 0 0;\n",
              "      width: 32px;\n",
              "    }\n",
              "\n",
              "    .colab-df-convert:hover {\n",
              "      background-color: #E2EBFA;\n",
              "      box-shadow: 0px 1px 2px rgba(60, 64, 67, 0.3), 0px 1px 3px 1px rgba(60, 64, 67, 0.15);\n",
              "      fill: #174EA6;\n",
              "    }\n",
              "\n",
              "    .colab-df-buttons div {\n",
              "      margin-bottom: 4px;\n",
              "    }\n",
              "\n",
              "    [theme=dark] .colab-df-convert {\n",
              "      background-color: #3B4455;\n",
              "      fill: #D2E3FC;\n",
              "    }\n",
              "\n",
              "    [theme=dark] .colab-df-convert:hover {\n",
              "      background-color: #434B5C;\n",
              "      box-shadow: 0px 1px 3px 1px rgba(0, 0, 0, 0.15);\n",
              "      filter: drop-shadow(0px 1px 2px rgba(0, 0, 0, 0.3));\n",
              "      fill: #FFFFFF;\n",
              "    }\n",
              "  </style>\n",
              "\n",
              "    <script>\n",
              "      const buttonEl =\n",
              "        document.querySelector('#df-6ec06f4b-6659-4dad-b314-c919de671a66 button.colab-df-convert');\n",
              "      buttonEl.style.display =\n",
              "        google.colab.kernel.accessAllowed ? 'block' : 'none';\n",
              "\n",
              "      async function convertToInteractive(key) {\n",
              "        const element = document.querySelector('#df-6ec06f4b-6659-4dad-b314-c919de671a66');\n",
              "        const dataTable =\n",
              "          await google.colab.kernel.invokeFunction('convertToInteractive',\n",
              "                                                    [key], {});\n",
              "        if (!dataTable) return;\n",
              "\n",
              "        const docLinkHtml = 'Like what you see? Visit the ' +\n",
              "          '<a target=\"_blank\" href=https://colab.research.google.com/notebooks/data_table.ipynb>data table notebook</a>'\n",
              "          + ' to learn more about interactive tables.';\n",
              "        element.innerHTML = '';\n",
              "        dataTable['output_type'] = 'display_data';\n",
              "        await google.colab.output.renderOutput(dataTable, element);\n",
              "        const docLink = document.createElement('div');\n",
              "        docLink.innerHTML = docLinkHtml;\n",
              "        element.appendChild(docLink);\n",
              "      }\n",
              "    </script>\n",
              "  </div>\n",
              "\n",
              "\n",
              "<div id=\"df-af082850-70e8-493b-9844-d13c0da3f868\">\n",
              "  <button class=\"colab-df-quickchart\" onclick=\"quickchart('df-af082850-70e8-493b-9844-d13c0da3f868')\"\n",
              "            title=\"Suggest charts\"\n",
              "            style=\"display:none;\">\n",
              "\n",
              "<svg xmlns=\"http://www.w3.org/2000/svg\" height=\"24px\"viewBox=\"0 0 24 24\"\n",
              "     width=\"24px\">\n",
              "    <g>\n",
              "        <path d=\"M19 3H5c-1.1 0-2 .9-2 2v14c0 1.1.9 2 2 2h14c1.1 0 2-.9 2-2V5c0-1.1-.9-2-2-2zM9 17H7v-7h2v7zm4 0h-2V7h2v10zm4 0h-2v-4h2v4z\"/>\n",
              "    </g>\n",
              "</svg>\n",
              "  </button>\n",
              "\n",
              "<style>\n",
              "  .colab-df-quickchart {\n",
              "      --bg-color: #E8F0FE;\n",
              "      --fill-color: #1967D2;\n",
              "      --hover-bg-color: #E2EBFA;\n",
              "      --hover-fill-color: #174EA6;\n",
              "      --disabled-fill-color: #AAA;\n",
              "      --disabled-bg-color: #DDD;\n",
              "  }\n",
              "\n",
              "  [theme=dark] .colab-df-quickchart {\n",
              "      --bg-color: #3B4455;\n",
              "      --fill-color: #D2E3FC;\n",
              "      --hover-bg-color: #434B5C;\n",
              "      --hover-fill-color: #FFFFFF;\n",
              "      --disabled-bg-color: #3B4455;\n",
              "      --disabled-fill-color: #666;\n",
              "  }\n",
              "\n",
              "  .colab-df-quickchart {\n",
              "    background-color: var(--bg-color);\n",
              "    border: none;\n",
              "    border-radius: 50%;\n",
              "    cursor: pointer;\n",
              "    display: none;\n",
              "    fill: var(--fill-color);\n",
              "    height: 32px;\n",
              "    padding: 0;\n",
              "    width: 32px;\n",
              "  }\n",
              "\n",
              "  .colab-df-quickchart:hover {\n",
              "    background-color: var(--hover-bg-color);\n",
              "    box-shadow: 0 1px 2px rgba(60, 64, 67, 0.3), 0 1px 3px 1px rgba(60, 64, 67, 0.15);\n",
              "    fill: var(--button-hover-fill-color);\n",
              "  }\n",
              "\n",
              "  .colab-df-quickchart-complete:disabled,\n",
              "  .colab-df-quickchart-complete:disabled:hover {\n",
              "    background-color: var(--disabled-bg-color);\n",
              "    fill: var(--disabled-fill-color);\n",
              "    box-shadow: none;\n",
              "  }\n",
              "\n",
              "  .colab-df-spinner {\n",
              "    border: 2px solid var(--fill-color);\n",
              "    border-color: transparent;\n",
              "    border-bottom-color: var(--fill-color);\n",
              "    animation:\n",
              "      spin 1s steps(1) infinite;\n",
              "  }\n",
              "\n",
              "  @keyframes spin {\n",
              "    0% {\n",
              "      border-color: transparent;\n",
              "      border-bottom-color: var(--fill-color);\n",
              "      border-left-color: var(--fill-color);\n",
              "    }\n",
              "    20% {\n",
              "      border-color: transparent;\n",
              "      border-left-color: var(--fill-color);\n",
              "      border-top-color: var(--fill-color);\n",
              "    }\n",
              "    30% {\n",
              "      border-color: transparent;\n",
              "      border-left-color: var(--fill-color);\n",
              "      border-top-color: var(--fill-color);\n",
              "      border-right-color: var(--fill-color);\n",
              "    }\n",
              "    40% {\n",
              "      border-color: transparent;\n",
              "      border-right-color: var(--fill-color);\n",
              "      border-top-color: var(--fill-color);\n",
              "    }\n",
              "    60% {\n",
              "      border-color: transparent;\n",
              "      border-right-color: var(--fill-color);\n",
              "    }\n",
              "    80% {\n",
              "      border-color: transparent;\n",
              "      border-right-color: var(--fill-color);\n",
              "      border-bottom-color: var(--fill-color);\n",
              "    }\n",
              "    90% {\n",
              "      border-color: transparent;\n",
              "      border-bottom-color: var(--fill-color);\n",
              "    }\n",
              "  }\n",
              "</style>\n",
              "\n",
              "  <script>\n",
              "    async function quickchart(key) {\n",
              "      const quickchartButtonEl =\n",
              "        document.querySelector('#' + key + ' button');\n",
              "      quickchartButtonEl.disabled = true;  // To prevent multiple clicks.\n",
              "      quickchartButtonEl.classList.add('colab-df-spinner');\n",
              "      try {\n",
              "        const charts = await google.colab.kernel.invokeFunction(\n",
              "            'suggestCharts', [key], {});\n",
              "      } catch (error) {\n",
              "        console.error('Error during call to suggestCharts:', error);\n",
              "      }\n",
              "      quickchartButtonEl.classList.remove('colab-df-spinner');\n",
              "      quickchartButtonEl.classList.add('colab-df-quickchart-complete');\n",
              "    }\n",
              "    (() => {\n",
              "      let quickchartButtonEl =\n",
              "        document.querySelector('#df-af082850-70e8-493b-9844-d13c0da3f868 button');\n",
              "      quickchartButtonEl.style.display =\n",
              "        google.colab.kernel.accessAllowed ? 'block' : 'none';\n",
              "    })();\n",
              "  </script>\n",
              "</div>\n",
              "    </div>\n",
              "  </div>\n"
            ],
            "application/vnd.google.colaboratory.intrinsic+json": {
              "type": "dataframe",
              "variable_name": "X"
            }
          },
          "metadata": {},
          "execution_count": 18
        }
      ],
      "source": [
        "X.head()"
      ]
    },
    {
      "cell_type": "markdown",
      "source": [
        "#Splitting Data:"
      ],
      "metadata": {
        "id": "KYC7g-NIiJL7"
      }
    },
    {
      "cell_type": "code",
      "execution_count": 19,
      "metadata": {
        "id": "xaGENafiELQl"
      },
      "outputs": [],
      "source": [
        "# Split the data into training and testing sets\n",
        "X_train, X_test, y_train, y_test = train_test_split(X, y, test_size=0.2, random_state=42)\n"
      ]
    },
    {
      "cell_type": "markdown",
      "source": [
        "#Defining Transformers and Preprocessor:"
      ],
      "metadata": {
        "id": "3mMwEQHtiT2B"
      }
    },
    {
      "cell_type": "code",
      "execution_count": 20,
      "metadata": {
        "id": "GCGeeAzuEO0C"
      },
      "outputs": [],
      "source": [
        "# Define numeric features\n",
        "numeric_features = ['Year', 'Duration', 'Votes']\n",
        "#Create pipelines for preprocessing numeric features\n",
        "numeric_transformer = Pipeline(steps=[\n",
        "    ('imputer', SimpleImputer(strategy='median')),\n",
        "    ('scaler', StandardScaler())])"
      ]
    },
    {
      "cell_type": "code",
      "execution_count": 21,
      "metadata": {
        "id": "9VxCjdH3LtH0"
      },
      "outputs": [],
      "source": [
        "# Define categorical features\n",
        "categorical_features = ['Drama', 'Musical', 'Comedy', 'Romance', 'War', 'Documentary', 'Horror', 'Mystery', 'Thriller', 'Action', 'Crime']\n",
        "#Create pipelines for preprocessing categorical features\n",
        "categorical_transformer = Pipeline(steps=[\n",
        "    ('imputer', SimpleImputer(strategy='most_frequent')),\n",
        "    ('onehot', OneHotEncoder(handle_unknown='ignore'))])"
      ]
    },
    {
      "cell_type": "code",
      "execution_count": 22,
      "metadata": {
        "id": "jesF0KSIEWMM"
      },
      "outputs": [],
      "source": [
        "# Combine the transformers\n",
        "preprocessor = ColumnTransformer(\n",
        "    transformers=[\n",
        "        ('num', numeric_transformer, numeric_features),\n",
        "        ('cat', categorical_transformer, categorical_features)])"
      ]
    },
    {
      "cell_type": "markdown",
      "source": [
        "#Defining the Model Pipeline:"
      ],
      "metadata": {
        "id": "YNT3ZRuYibZN"
      }
    },
    {
      "cell_type": "code",
      "execution_count": 23,
      "metadata": {
        "id": "Bg-0TvUpEcG9"
      },
      "outputs": [],
      "source": [
        "# Define the model pipeline\n",
        "model = Pipeline(steps=[('preprocessor', preprocessor),\n",
        "                        ('regressor', RandomForestRegressor())])"
      ]
    },
    {
      "cell_type": "markdown",
      "source": [
        "#Defining Parameter Grid for Grid Search:"
      ],
      "metadata": {
        "id": "xnM8p0hHifWu"
      }
    },
    {
      "cell_type": "code",
      "execution_count": 24,
      "metadata": {
        "id": "2sbFpOPGEfsK"
      },
      "outputs": [],
      "source": [
        "# Define the parameter grid for grid search\n",
        "param_grid = {\n",
        "    'regressor__n_estimators': [100, 200],\n",
        "    'regressor__max_depth': [None, 10, 20],\n",
        "    'regressor__min_samples_split': [2, 5],\n",
        "    'regressor__min_samples_leaf': [1, 2]\n",
        "}"
      ]
    },
    {
      "cell_type": "markdown",
      "source": [
        "#Performing Grid Search with Cross-Validation:"
      ],
      "metadata": {
        "id": "DIc3P-6fijjO"
      }
    },
    {
      "cell_type": "code",
      "execution_count": 25,
      "metadata": {
        "colab": {
          "base_uri": "https://localhost:8080/"
        },
        "id": "aeSFXvRVIO3s",
        "outputId": "33c150bb-a68a-4aa3-efeb-78c045696e5e"
      },
      "outputs": [
        {
          "output_type": "stream",
          "name": "stdout",
          "text": [
            "Best parameters: {'regressor__max_depth': 10, 'regressor__min_samples_leaf': 2, 'regressor__min_samples_split': 5, 'regressor__n_estimators': 200}\n"
          ]
        }
      ],
      "source": [
        "# Perform grid search with cross-validation\n",
        "try:\n",
        "    grid_search = GridSearchCV(model, param_grid, cv=5, scoring='neg_mean_squared_error', n_jobs=-1)\n",
        "    grid_search.fit(X_train, y_train)\n",
        "    best_params = grid_search.best_params_\n",
        "    print(\"Best parameters:\", best_params)\n",
        "except Exception as e:\n",
        "    print(\"An error occurred during grid search:\", e)\n"
      ]
    },
    {
      "cell_type": "code",
      "execution_count": 26,
      "metadata": {
        "colab": {
          "base_uri": "https://localhost:8080/"
        },
        "id": "_92eyCTHMBrJ",
        "outputId": "0c212963-46d4-446a-a68f-cf29712a81e7"
      },
      "outputs": [
        {
          "output_type": "stream",
          "name": "stdout",
          "text": [
            "Best parameters: {'regressor__max_depth': 10, 'regressor__min_samples_leaf': 2, 'regressor__min_samples_split': 5, 'regressor__n_estimators': 200}\n"
          ]
        }
      ],
      "source": [
        "# Print the best parameters found\n",
        "print(\"Best parameters:\", grid_search.best_params_)"
      ]
    },
    {
      "cell_type": "markdown",
      "source": [
        "#Model Evaluation:"
      ],
      "metadata": {
        "id": "KrXWUt3ritnL"
      }
    },
    {
      "cell_type": "code",
      "execution_count": 27,
      "metadata": {
        "id": "YEVuZhdZMGOL"
      },
      "outputs": [],
      "source": [
        "# Make predictions on the test set\n",
        "y_pred = grid_search.predict(X_test)"
      ]
    },
    {
      "cell_type": "code",
      "execution_count": 28,
      "metadata": {
        "colab": {
          "base_uri": "https://localhost:8080/"
        },
        "id": "GzO3ICx6MIsG",
        "outputId": "61fbc08c-19a0-4145-d6e7-b43f8f8432ed"
      },
      "outputs": [
        {
          "output_type": "stream",
          "name": "stdout",
          "text": [
            "Test RMSE: 0.9059265709682807\n"
          ]
        }
      ],
      "source": [
        "# Calculate test RMSE\n",
        "test_rmse = np.sqrt(mean_squared_error(y_test, y_pred))\n",
        "print(\"Test RMSE:\", test_rmse)"
      ]
    },
    {
      "cell_type": "markdown",
      "source": [
        "#Feature Importance Visualization:"
      ],
      "metadata": {
        "id": "P1xznM1xi0ui"
      }
    },
    {
      "cell_type": "code",
      "execution_count": 29,
      "metadata": {
        "id": "dz-TdV2jML-Q"
      },
      "outputs": [],
      "source": [
        "# Get feature importances from the best estimator\n",
        "importances = grid_search.best_estimator_.named_steps['regressor'].feature_importances_\n",
        "feature_names = numeric_features + list(grid_search.best_estimator_.named_steps['preprocessor'].named_transformers_['cat'].named_steps['onehot'].get_feature_names_out())\n",
        "sorted_indices = np.argsort(importances)[::-1]\n",
        "sorted_importances = importances[sorted_indices]\n",
        "sorted_features = np.array(feature_names)[sorted_indices]"
      ]
    },
    {
      "cell_type": "code",
      "execution_count": 30,
      "metadata": {
        "colab": {
          "base_uri": "https://localhost:8080/",
          "height": 564
        },
        "id": "42t5VWCJMPUH",
        "outputId": "47a16114-c171-47ba-d17f-e78f49794fe4"
      },
      "outputs": [
        {
          "output_type": "display_data",
          "data": {
            "text/plain": [
              "<Figure size 1000x600 with 1 Axes>"
            ],
            "image/png": "[encoded data removed]"
          },
          "metadata": {}
        }
      ],
      "source": [
        "# Plot the top 10 feature importances\n",
        "plt.figure(figsize=(10, 6))\n",
        "plt.barh(sorted_features[:10], sorted_importances[:10])\n",
        "plt.xlabel(\"Feature Importance\")\n",
        "plt.ylabel(\"Feature\")\n",
        "plt.title(\"Top 10 Feature Importances\")\n",
        "plt.gca().invert_yaxis()\n",
        "plt.show()"
      ]
    },
    {
      "cell_type": "markdown",
      "source": [
        "#Visualization of Movie Ratings Distribution:"
      ],
      "metadata": {
        "id": "YqQqQkOUjLaU"
      }
    },
    {
      "cell_type": "code",
      "execution_count": 31,
      "metadata": {
        "colab": {
          "base_uri": "https://localhost:8080/",
          "height": 487
        },
        "id": "hwFmc21f-jEP",
        "outputId": "90d64b5c-81f8-4357-b0c7-86c2e84f07f8"
      },
      "outputs": [
        {
          "output_type": "display_data",
          "data": {
            "text/plain": [
              "<Figure size 800x500 with 1 Axes>"
            ],
            "image/png": "[encoded data removed]"
          },
          "metadata": {}
        }
      ],
      "source": [
        "# Plot the distribution of movie ratings\n",
        "plt.figure(figsize=(8, 5))\n",
        "sns.histplot(y, kde=True)\n",
        "plt.title(\"Distribution of Movie Ratings\")\n",
        "plt.xlabel(\"Rating\")\n",
        "plt.ylabel(\"Frequency\")\n",
        "plt.show()"
      ]
    },
    {
      "cell_type": "markdown",
      "source": [
        "#Visualization of Counts of Different Genres:"
      ],
      "metadata": {
        "id": "J4J6t8pHjWEg"
      }
    },
    {
      "cell_type": "code",
      "execution_count": 32,
      "metadata": {
        "colab": {
          "base_uri": "https://localhost:8080/",
          "height": 564
        },
        "id": "fjNwRxgYDWpQ",
        "outputId": "b6d38ec5-be24-435c-c957-c11d2455ac77"
      },
      "outputs": [
        {
          "output_type": "display_data",
          "data": {
            "text/plain": [
              "<Figure size 1000x600 with 1 Axes>"
            ],
            "image/png": "[encoded data removed]"
          },
          "metadata": {}
        }
      ],
      "source": [
        "# Plot the counts of different genres\n",
        "genre_counts = genres.sum().sort_values(ascending=False)\n",
        "plt.figure(figsize=(10, 6))\n",
        "sns.barplot(x=genre_counts.values, y=genre_counts.index)\n",
        "plt.xlabel(\"Number of Movies\")\n",
        "plt.ylabel(\"Genre\")\n",
        "plt.title(\"Counts of Different Genres\")\n",
        "plt.show()"
      ]
    },
    {
      "cell_type": "markdown",
      "source": [
        "#Visualization of Movie Durations Distribution:"
      ],
      "metadata": {
        "id": "4Jhayj0WjcOc"
      }
    },
    {
      "cell_type": "code",
      "execution_count": 33,
      "metadata": {
        "colab": {
          "base_uri": "https://localhost:8080/",
          "height": 564
        },
        "id": "uuonM7rXD1d7",
        "outputId": "8c8f25db-f0b9-4eb4-d6fe-7efd9a67273e"
      },
      "outputs": [
        {
          "output_type": "display_data",
          "data": {
            "text/plain": [
              "<Figure size 1000x600 with 1 Axes>"
            ],
            "image/png": "[encoded data removed]"
          },
          "metadata": {}
        }
      ],
      "source": [
        "# Filter out movies with duration 0 or no value\n",
        "valid_durations = X[X['Duration'] > 0]['Duration']\n",
        "\n",
        "# Plotting the distribution of movie durations\n",
        "plt.figure(figsize=(10, 6))\n",
        "sns.histplot(valid_durations, kde=True)\n",
        "plt.xlabel(\"Duration (minutes)\")\n",
        "plt.ylabel(\"Frequency\")\n",
        "plt.title(\"Distribution of Movie Durations\")\n",
        "plt.show()\n",
        "\n",
        "\n"
      ]
    },
    {
      "cell_type": "markdown",
      "source": [
        "#Filtering out Movies with Undefined Genre Information and Genre Combinations:"
      ],
      "metadata": {
        "id": "WkknQsEI6CAr"
      }
    },
    {
      "cell_type": "code",
      "source": [
        "\n",
        "# Concatenate genre columns to create a new column 'Genre_combination'\n",
        "Movie_rating['Genre_combination'] = Movie_rating[categorical_features].apply(lambda row: ', '.join(row.index[row == 1]), axis=1)\n",
        "\n",
        "# Filter out rows with missing or undefined genre information\n",
        "defined_genre_movies = Movie_rating[Movie_rating['Genre_combination'] != '']\n",
        "\n",
        "# Count occurrences of each genre combination\n",
        "defined_genre_counts = defined_genre_movies['Genre_combination'].value_counts()\n",
        "\n",
        "# Create a DataFrame for the top 10 most common genre combinations\n",
        "top_genre_combinations = pd.DataFrame(defined_genre_counts.head(10).reset_index())\n",
        "top_genre_combinations.columns = ['Genre Combination', 'Number of Movies']\n",
        "\n",
        "# Display the top 10 most common genre combinations in tabular form\n",
        "print(\"Top 10 most common genre combinations (excluding undefined genres):\")\n",
        "print(top_genre_combinations.to_string(index=False))\n"
      ],
      "metadata": {
        "colab": {
          "base_uri": "https://localhost:8080/"
        },
        "id": "XxU72-kL5-PS",
        "outputId": "68303e2b-af11-41b1-9b22-3020332bbb09"
      },
      "execution_count": 45,
      "outputs": [
        {
          "output_type": "stream",
          "name": "stdout",
          "text": [
            "Top 10 most common genre combinations (excluding undefined genres):\n",
            "   Genre Combination  Number of Movies\n",
            "               Drama              3493\n",
            "              Action              1414\n",
            "            Thriller               788\n",
            "             Romance               748\n",
            "      Drama, Romance               636\n",
            "              Comedy               539\n",
            "       Drama, Action               502\n",
            "Drama, Action, Crime               462\n",
            "       Drama, Comedy               426\n",
            "         Documentary               338\n"
          ]
        }
      ]
    },
    {
      "cell_type": "markdown",
      "source": [
        "#Plotting the Top 10 Most Common Genre Combinations:"
      ],
      "metadata": {
        "id": "Z-MSeIOnj1XO"
      }
    },
    {
      "cell_type": "code",
      "execution_count": 37,
      "metadata": {
        "colab": {
          "base_uri": "https://localhost:8080/",
          "height": 564
        },
        "id": "ldCvrXhHGeBX",
        "outputId": "6b54af14-da47-46ab-d47a-771ea7524867"
      },
      "outputs": [
        {
          "output_type": "display_data",
          "data": {
            "text/plain": [
              "<Figure size 1000x600 with 1 Axes>"
            ],
            "image/png": "[encoded data removed]"
          },
          "metadata": {}
        }
      ],
      "source": [
        "# Plotting the top 10 most common genre combinations\n",
        "plt.figure(figsize=(10, 6))\n",
        "sns.barplot(x=genre_counts.head(10).values, y=genre_counts.head(10).index)\n",
        "plt.xlabel(\"Number of Movies\")\n",
        "plt.ylabel(\"Genre Combination\")\n",
        "plt.title(\"Top 10 Most Common Genre Combinations\")\n",
        "plt.show()\n"
      ]
    },
    {
      "cell_type": "markdown",
      "source": [
        "#Cross-validated RMSE Calculation:"
      ],
      "metadata": {
        "id": "xa5iNtQGj5Sz"
      }
    },
    {
      "cell_type": "code",
      "execution_count": 38,
      "metadata": {
        "colab": {
          "base_uri": "https://localhost:8080/"
        },
        "id": "UFFuKFQ1MR4D",
        "outputId": "91db0352-447f-4ada-93d7-fd10e3b659ae"
      },
      "outputs": [
        {
          "output_type": "stream",
          "name": "stdout",
          "text": [
            "Cross-validated RMSE: [0.87075082 0.93944316 0.92906119 0.92201975 0.92864169]\n"
          ]
        }
      ],
      "source": [
        "# Perform cross-validation to assess model performance\n",
        "cv_scores = cross_val_score(grid_search.best_estimator_, X, y, cv=5, scoring='neg_mean_squared_error')\n",
        "cv_rmse = np.sqrt(-cv_scores)\n",
        "print(\"Cross-validated RMSE:\", cv_rmse)"
      ]
    },
    {
      "cell_type": "markdown",
      "source": [
        "#Saving the Trained Model:"
      ],
      "metadata": {
        "id": "tc1Ispx4kAif"
      }
    },
    {
      "cell_type": "code",
      "execution_count": 39,
      "metadata": {
        "colab": {
          "base_uri": "https://localhost:8080/"
        },
        "id": "xi5cl3VQMWVI",
        "outputId": "f675d796-a866-4af0-a907-5f981735a0e8"
      },
      "outputs": [
        {
          "output_type": "execute_result",
          "data": {
            "text/plain": [
              "['movie_rating_model.pkl']"
            ]
          },
          "metadata": {},
          "execution_count": 39
        }
      ],
      "source": [
        "# Save the trained model\n",
        "joblib.dump(grid_search.best_estimator_, 'movie_rating_model.pkl')"
      ]
    },
    {
      "cell_type": "markdown",
      "source": [
        "#Making Predictions for a New Movie:"
      ],
      "metadata": {
        "id": "lfSXIo82kHsG"
      }
    },
    {
      "cell_type": "code",
      "execution_count": 40,
      "metadata": {
        "colab": {
          "base_uri": "https://localhost:8080/"
        },
        "id": "9Yd0x8mx-AeX",
        "outputId": "9a88ed44-846c-4ecd-d9bc-8dd50e1bb607"
      },
      "outputs": [
        {
          "output_type": "stream",
          "name": "stdout",
          "text": [
            "Predicted Rating for the new movie: 5.496302265705769\n"
          ]
        }
      ],
      "source": [
        "# Create a DataFrame for a new movie\n",
        "new_movie = pd.DataFrame({\n",
        "        'Year': [2024],\n",
        "        'Duration': [120],\n",
        "        'Votes': [5000],\n",
        "        'Drama': [1],\n",
        "        'Musical': [0],\n",
        "        'Comedy': [1],\n",
        "        'Romance': [0],\n",
        "        'War': [0],\n",
        "        'Documentary': [0],\n",
        "        'Horror': [0],\n",
        "        'Mystery': [1],\n",
        "        'Thriller': [1],\n",
        "        'Action': [0],\n",
        "        'Crime': [0]\n",
        "    })\n",
        "predicted_rating = grid_search.predict(new_movie)\n",
        "print(\"Predicted Rating for the new movie:\", predicted_rating[0])"
      ]
    }
  ],
  "metadata": {
    "colab": {
      "provenance": [],
      "include_colab_link": true
    },
    "kernelspec": {
      "display_name": "Python 3",
      "name": "python3"
    },
    "language_info": {
      "name": "python"
    }
  },
  "nbformat": 4,
  "nbformat_minor": 0
}